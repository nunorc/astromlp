{
 "cells": [
  {
   "cell_type": "markdown",
   "id": "8c6836ed-5e14-4907-9c06-7437ee362a52",
   "metadata": {},
   "source": [
    "# Build Models"
   ]
  },
  {
   "cell_type": "code",
   "execution_count": 1,
   "id": "f426e9c3-3354-4545-bd9d-095c27307d1e",
   "metadata": {},
   "outputs": [],
   "source": [
    "import pandas as pd\n",
    "import numpy as np\n",
    "import tensorflow as tf"
   ]
  },
  {
   "cell_type": "markdown",
   "id": "d8c478b4-1f1a-459d-a5e9-89579714c0a6",
   "metadata": {},
   "source": [
    "## SDSS"
   ]
  },
  {
   "cell_type": "markdown",
   "id": "084e2407-42f0-4a21-bf84-842f27af797d",
   "metadata": {},
   "source": [
    "### `keras_ugriz_redshift`"
   ]
  },
  {
   "cell_type": "markdown",
   "id": "8415b96c-dded-43ae-94b3-641bd872e995",
   "metadata": {},
   "source": [
    "Predict redshift from u, g, r, i, z bands."
   ]
  },
  {
   "cell_type": "code",
   "execution_count": 3,
   "id": "4ee33a79-437d-48e6-8710-f4c70e29d33a",
   "metadata": {},
   "outputs": [
    {
     "name": "stderr",
     "output_type": "stream",
     "text": [
      "2021-11-10 09:39:31.499521: I tensorflow/core/platform/cpu_feature_guard.cc:142] This TensorFlow binary is optimized with oneAPI Deep Neural Network Library (oneDNN) to use the following CPU instructions in performance-critical operations:  SSE4.1 SSE4.2 AVX\n",
      "To enable them in other operations, rebuild TensorFlow with the appropriate compiler flags.\n"
     ]
    }
   ],
   "source": [
    "# build the model\n",
    "inputs = tf.keras.Input(shape=(5,))\n",
    "dense_1 = tf.keras.layers.Dense(32, activation='relu')(inputs)\n",
    "dense_2 = tf.keras.layers.Dense(16, activation='relu')(dense_1)\n",
    "dense_3 = tf.keras.layers.Dense(8, activation='relu')(dense_2)\n",
    "outputs = tf.keras.layers.Dense(1)(dense_3)\n",
    "\n",
    "model = tf.keras.Model(inputs=inputs, outputs=outputs, name='keras_ugriz_redshift')"
   ]
  },
  {
   "cell_type": "code",
   "execution_count": 4,
   "id": "4150d5fb-3f82-4332-814a-297e3630b359",
   "metadata": {},
   "outputs": [
    {
     "name": "stdout",
     "output_type": "stream",
     "text": [
      "Model: \"keras_ugriz_redshift\"\n",
      "_________________________________________________________________\n",
      "Layer (type)                 Output Shape              Param #   \n",
      "=================================================================\n",
      "input_1 (InputLayer)         [(None, 5)]               0         \n",
      "_________________________________________________________________\n",
      "dense (Dense)                (None, 32)                192       \n",
      "_________________________________________________________________\n",
      "dense_1 (Dense)              (None, 16)                528       \n",
      "_________________________________________________________________\n",
      "dense_2 (Dense)              (None, 8)                 136       \n",
      "_________________________________________________________________\n",
      "dense_3 (Dense)              (None, 1)                 9         \n",
      "=================================================================\n",
      "Total params: 865\n",
      "Trainable params: 865\n",
      "Non-trainable params: 0\n",
      "_________________________________________________________________\n"
     ]
    }
   ],
   "source": [
    "model.summary()"
   ]
  },
  {
   "cell_type": "code",
   "execution_count": 5,
   "id": "c984f4c9-25d0-40c4-b1b3-d5dafcfcfd0f",
   "metadata": {},
   "outputs": [],
   "source": [
    "# compile the model\n",
    "model.compile(loss='mean_squared_error', optimizer='adam', metrics=['mean_squared_error'])"
   ]
  },
  {
   "cell_type": "code",
   "execution_count": 6,
   "id": "f6b29941-9d7b-46f6-a7d8-e7c503ab8497",
   "metadata": {},
   "outputs": [],
   "source": [
    "# save the model untrained\n",
    "model.save('keras_ugriz_redshift.h5')"
   ]
  },
  {
   "cell_type": "markdown",
   "id": "8d98b075-019c-483f-b579-3c4e5c0a82e3",
   "metadata": {},
   "source": [
    "### `keras_ugriz_class`"
   ]
  },
  {
   "cell_type": "markdown",
   "id": "892682ec-e544-426c-8605-2ec57c629b0b",
   "metadata": {},
   "source": [
    "Classifier (`['GALAXY', 'STAR', 'QSO']`) given u, g, r, i, z bands."
   ]
  },
  {
   "cell_type": "code",
   "execution_count": 7,
   "id": "82035abe-69a0-473b-a250-6473b0dbe6ce",
   "metadata": {},
   "outputs": [],
   "source": [
    "# build the model\n",
    "inputs = tf.keras.Input(shape=(5,))\n",
    "dense_1 = tf.keras.layers.Dense(128, activation='relu')(inputs)\n",
    "dense_2 = tf.keras.layers.Dense(128, activation='relu')(dense_1)\n",
    "dense_3 = tf.keras.layers.Dense(64, activation='relu')(dense_2)\n",
    "dense_4 = tf.keras.layers.Dense(64, activation='relu')(dense_3)\n",
    "dense_5 = tf.keras.layers.Dense(32, activation='relu')(dense_4)\n",
    "dense_6 = tf.keras.layers.Dense(32, activation='relu')(dense_5)\n",
    "dense_7 = tf.keras.layers.Dense(16, activation='relu')(dense_6)\n",
    "outputs = tf.keras.layers.Dense(3, activation='softmax')(dense_7)\n",
    "\n",
    "model = tf.keras.Model(inputs=inputs, outputs=outputs, name='keras_ugriz_class')"
   ]
  },
  {
   "cell_type": "code",
   "execution_count": 8,
   "id": "fde44fbd-3a69-460a-bb16-e8d25f10a88d",
   "metadata": {},
   "outputs": [
    {
     "name": "stdout",
     "output_type": "stream",
     "text": [
      "Model: \"keras_ugriz_class\"\n",
      "_________________________________________________________________\n",
      "Layer (type)                 Output Shape              Param #   \n",
      "=================================================================\n",
      "input_2 (InputLayer)         [(None, 5)]               0         \n",
      "_________________________________________________________________\n",
      "dense_4 (Dense)              (None, 128)               768       \n",
      "_________________________________________________________________\n",
      "dense_5 (Dense)              (None, 128)               16512     \n",
      "_________________________________________________________________\n",
      "dense_6 (Dense)              (None, 64)                8256      \n",
      "_________________________________________________________________\n",
      "dense_7 (Dense)              (None, 64)                4160      \n",
      "_________________________________________________________________\n",
      "dense_8 (Dense)              (None, 32)                2080      \n",
      "_________________________________________________________________\n",
      "dense_9 (Dense)              (None, 32)                1056      \n",
      "_________________________________________________________________\n",
      "dense_10 (Dense)             (None, 16)                528       \n",
      "_________________________________________________________________\n",
      "dense_11 (Dense)             (None, 3)                 51        \n",
      "=================================================================\n",
      "Total params: 33,411\n",
      "Trainable params: 33,411\n",
      "Non-trainable params: 0\n",
      "_________________________________________________________________\n"
     ]
    }
   ],
   "source": [
    "model.summary()"
   ]
  },
  {
   "cell_type": "code",
   "execution_count": 9,
   "id": "eef8a09d-7fa3-457d-892c-b5f932f442c5",
   "metadata": {},
   "outputs": [],
   "source": [
    "# compile the model\n",
    "model.compile(loss='categorical_crossentropy', optimizer='adam',metrics=['accuracy'])"
   ]
  },
  {
   "cell_type": "code",
   "execution_count": 10,
   "id": "c97a729c-5eb7-46c7-9a9c-0664a71137f0",
   "metadata": {},
   "outputs": [],
   "source": [
    "# save the model untrained\n",
    "model.save('keras_ugriz_class.h5')"
   ]
  },
  {
   "cell_type": "code",
   "execution_count": null,
   "id": "58e12ad5-e57f-427d-8a85-63d509f316b2",
   "metadata": {},
   "outputs": [],
   "source": []
  }
 ],
 "metadata": {
  "kernelspec": {
   "display_name": "Python 3 (ipykernel)",
   "language": "python",
   "name": "python3"
  },
  "language_info": {
   "codemirror_mode": {
    "name": "ipython",
    "version": 3
   },
   "file_extension": ".py",
   "mimetype": "text/x-python",
   "name": "python",
   "nbconvert_exporter": "python",
   "pygments_lexer": "ipython3",
   "version": "3.9.7"
  }
 },
 "nbformat": 4,
 "nbformat_minor": 5
}
