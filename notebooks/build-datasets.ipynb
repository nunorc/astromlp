{
 "cells": [
  {
   "cell_type": "markdown",
   "id": "7ad84e60-baa1-4db6-9ab7-0de4fd12d4a3",
   "metadata": {},
   "source": [
    "# Build Available Data"
   ]
  },
  {
   "cell_type": "code",
   "execution_count": 1,
   "id": "6a499eae-13a2-4710-9c5b-e89fe3377923",
   "metadata": {},
   "outputs": [],
   "source": [
    "import pandas as pd\n",
    "import numpy as np"
   ]
  },
  {
   "cell_type": "markdown",
   "id": "5bd7ff76-dba1-4ae5-a52a-e26db494ed1f",
   "metadata": {},
   "source": [
    "## SDSS"
   ]
  },
  {
   "cell_type": "markdown",
   "id": "9a95cc85-dbb6-4bcc-936a-9785a318c6b5",
   "metadata": {},
   "source": [
    "Datasets build with data from the `SpecPhoto` SDSS data table. The data is downloaded using a CSV file, built using the following SQL:\n",
    "\n",
    "```sql\n",
    "SELECT objID,ra,dec,class,modelMag_u AS u,modelMag_g AS g,modelMag_r AS r,modelMag_i AS i,modelMag_z AS z, z as redshift\n",
    "INTO mydb.SpecPhoto\n",
    "FROM SpecPhoto\n",
    "```"
   ]
  },
  {
   "cell_type": "code",
   "execution_count": 2,
   "id": "2c4a869d-b18b-4e14-a273-ec0de81f5e5d",
   "metadata": {},
   "outputs": [],
   "source": [
    "filename = 'SpecPhoto_data.csv'"
   ]
  },
  {
   "cell_type": "markdown",
   "id": "2f643fb5-52ac-4c16-9bd6-a0a32c563ba1",
   "metadata": {},
   "source": [
    "### `sdss_specphoto`"
   ]
  },
  {
   "cell_type": "code",
   "execution_count": 3,
   "id": "0d3a6139-9073-4784-9141-bd8e4f54809e",
   "metadata": {},
   "outputs": [
    {
     "data": {
      "text/html": [
       "<div>\n",
       "<style scoped>\n",
       "    .dataframe tbody tr th:only-of-type {\n",
       "        vertical-align: middle;\n",
       "    }\n",
       "\n",
       "    .dataframe tbody tr th {\n",
       "        vertical-align: top;\n",
       "    }\n",
       "\n",
       "    .dataframe thead th {\n",
       "        text-align: right;\n",
       "    }\n",
       "</style>\n",
       "<table border=\"1\" class=\"dataframe\">\n",
       "  <thead>\n",
       "    <tr style=\"text-align: right;\">\n",
       "      <th></th>\n",
       "      <th>objID</th>\n",
       "      <th>ra</th>\n",
       "      <th>dec</th>\n",
       "      <th>class</th>\n",
       "      <th>u</th>\n",
       "      <th>g</th>\n",
       "      <th>r</th>\n",
       "      <th>i</th>\n",
       "      <th>z</th>\n",
       "      <th>redshift</th>\n",
       "    </tr>\n",
       "  </thead>\n",
       "  <tbody>\n",
       "    <tr>\n",
       "      <th>0</th>\n",
       "      <td>1237661464385356095</td>\n",
       "      <td>254.71961</td>\n",
       "      <td>20.675319</td>\n",
       "      <td>GALAXY</td>\n",
       "      <td>19.78247</td>\n",
       "      <td>18.51326</td>\n",
       "      <td>17.70357</td>\n",
       "      <td>17.26893</td>\n",
       "      <td>16.97296</td>\n",
       "      <td>0.153270</td>\n",
       "    </tr>\n",
       "    <tr>\n",
       "      <th>1</th>\n",
       "      <td>1237661463848550513</td>\n",
       "      <td>254.52927</td>\n",
       "      <td>20.236403</td>\n",
       "      <td>GALAXY</td>\n",
       "      <td>20.85782</td>\n",
       "      <td>18.60410</td>\n",
       "      <td>17.62333</td>\n",
       "      <td>17.17327</td>\n",
       "      <td>16.83212</td>\n",
       "      <td>0.079166</td>\n",
       "    </tr>\n",
       "    <tr>\n",
       "      <th>2</th>\n",
       "      <td>1237662336799408157</td>\n",
       "      <td>254.43515</td>\n",
       "      <td>21.196040</td>\n",
       "      <td>STAR</td>\n",
       "      <td>18.25609</td>\n",
       "      <td>17.21735</td>\n",
       "      <td>16.89063</td>\n",
       "      <td>16.75081</td>\n",
       "      <td>16.66703</td>\n",
       "      <td>0.000075</td>\n",
       "    </tr>\n",
       "    <tr>\n",
       "      <th>3</th>\n",
       "      <td>1237661464921964802</td>\n",
       "      <td>254.52014</td>\n",
       "      <td>21.203996</td>\n",
       "      <td>GALAXY</td>\n",
       "      <td>21.81640</td>\n",
       "      <td>19.32997</td>\n",
       "      <td>17.96913</td>\n",
       "      <td>17.32537</td>\n",
       "      <td>17.02673</td>\n",
       "      <td>0.223294</td>\n",
       "    </tr>\n",
       "    <tr>\n",
       "      <th>4</th>\n",
       "      <td>1237661465458835623</td>\n",
       "      <td>254.88178</td>\n",
       "      <td>21.637263</td>\n",
       "      <td>GALAXY</td>\n",
       "      <td>18.13901</td>\n",
       "      <td>17.30386</td>\n",
       "      <td>17.09862</td>\n",
       "      <td>16.98777</td>\n",
       "      <td>16.85346</td>\n",
       "      <td>0.022392</td>\n",
       "    </tr>\n",
       "  </tbody>\n",
       "</table>\n",
       "</div>"
      ],
      "text/plain": [
       "                 objID         ra        dec   class         u         g  \\\n",
       "0  1237661464385356095  254.71961  20.675319  GALAXY  19.78247  18.51326   \n",
       "1  1237661463848550513  254.52927  20.236403  GALAXY  20.85782  18.60410   \n",
       "2  1237662336799408157  254.43515  21.196040    STAR  18.25609  17.21735   \n",
       "3  1237661464921964802  254.52014  21.203996  GALAXY  21.81640  19.32997   \n",
       "4  1237661465458835623  254.88178  21.637263  GALAXY  18.13901  17.30386   \n",
       "\n",
       "          r         i         z  redshift  \n",
       "0  17.70357  17.26893  16.97296  0.153270  \n",
       "1  17.62333  17.17327  16.83212  0.079166  \n",
       "2  16.89063  16.75081  16.66703  0.000075  \n",
       "3  17.96913  17.32537  17.02673  0.223294  \n",
       "4  17.09862  16.98777  16.85346  0.022392  "
      ]
     },
     "execution_count": 3,
     "metadata": {},
     "output_type": "execute_result"
    }
   ],
   "source": [
    "# load csv to dataframe\n",
    "df = pd.read_csv(filename)\n",
    "\n",
    "df.head()"
   ]
  },
  {
   "cell_type": "code",
   "execution_count": 6,
   "id": "82b4feb8-e200-499a-826d-71dab07aa515",
   "metadata": {},
   "outputs": [
    {
     "data": {
      "text/plain": [
       "((4613773,), (4613773,), (4613773, 5), (4613773,))"
      ]
     },
     "execution_count": 6,
     "metadata": {},
     "output_type": "execute_result"
    }
   ],
   "source": [
    "# build set of np arrays\n",
    "id = df[df.columns[0]].to_numpy()\n",
    "class_ = df[df.columns[3]].to_numpy()\n",
    "ugriz = df[df.columns[4:-1]].to_numpy()\n",
    "redshift = df[df.columns[-1]].to_numpy()\n",
    "\n",
    "id.shape, class_.shape, ugriz.shape, redshift.shape"
   ]
  },
  {
   "cell_type": "code",
   "execution_count": 13,
   "id": "295a839d-84c8-48d2-89e2-0eb4570e2617",
   "metadata": {},
   "outputs": [
    {
     "data": {
      "text/plain": [
       "(4613773, 3)"
      ]
     },
     "execution_count": 13,
     "metadata": {},
     "output_type": "execute_result"
    }
   ],
   "source": [
    "# one hot encode classes\n",
    "classes = ['GALAXY', 'STAR', 'QSO']\n",
    "l = []\n",
    "for c in df[df.columns[3]]:\n",
    "    curr = np.zeros(3)\n",
    "    curr[classes.index(c)] = 1\n",
    "    l.append(curr)\n",
    "class1hot = np.array(l)\n",
    "\n",
    "class1hot.shape"
   ]
  },
  {
   "cell_type": "code",
   "execution_count": 15,
   "id": "e7c50331-a0a5-42a1-99bd-2ff0bacaadbf",
   "metadata": {},
   "outputs": [],
   "source": [
    "np.savez('sdss_specphoto.npz', id=id, ugriz=ugriz, redshift=redshift, class_=class_, class1hot=class1hot)"
   ]
  }
 ],
 "metadata": {
  "kernelspec": {
   "display_name": "Python 3 (ipykernel)",
   "language": "python",
   "name": "python3"
  },
  "language_info": {
   "codemirror_mode": {
    "name": "ipython",
    "version": 3
   },
   "file_extension": ".py",
   "mimetype": "text/x-python",
   "name": "python",
   "nbconvert_exporter": "python",
   "pygments_lexer": "ipython3",
   "version": "3.9.7"
  }
 },
 "nbformat": 4,
 "nbformat_minor": 5
}
