{
 "cells": [
  {
   "cell_type": "markdown",
   "id": "7ad84e60-baa1-4db6-9ab7-0de4fd12d4a3",
   "metadata": {},
   "source": [
    "# Build Datasets"
   ]
  },
  {
   "cell_type": "code",
   "execution_count": 1,
   "id": "6a499eae-13a2-4710-9c5b-e89fe3377923",
   "metadata": {},
   "outputs": [],
   "source": [
    "import pandas as pd\n",
    "import numpy as np\n",
    "import tensorflow as tf"
   ]
  },
  {
   "cell_type": "markdown",
   "id": "5bd7ff76-dba1-4ae5-a52a-e26db494ed1f",
   "metadata": {},
   "source": [
    "## SDSS"
   ]
  },
  {
   "cell_type": "markdown",
   "id": "9a95cc85-dbb6-4bcc-936a-9785a318c6b5",
   "metadata": {},
   "source": [
    "Datasets build with data from the `SpecPhoto` SDSS data table. The data is downloaded using a CSV file, built using the following SQL:\n",
    "\n",
    "```sql\n",
    "SELECT objID,ra,dec,class,modelMag_u AS u,modelMag_g AS g,modelMag_r AS r,modelMag_i AS i,modelMag_z AS z, z as redshift\n",
    "INTO mydb.SpecPhoto\n",
    "FROM SpecPhoto\n",
    "```"
   ]
  },
  {
   "cell_type": "code",
   "execution_count": 2,
   "id": "2c4a869d-b18b-4e14-a273-ec0de81f5e5d",
   "metadata": {},
   "outputs": [],
   "source": [
    "filename = 'SpecPhoto_data.csv'"
   ]
  },
  {
   "cell_type": "markdown",
   "id": "2f643fb5-52ac-4c16-9bd6-a0a32c563ba1",
   "metadata": {},
   "source": [
    "### `sdss_specphoto_ugriz_redshift`"
   ]
  },
  {
   "cell_type": "code",
   "execution_count": 3,
   "id": "0d3a6139-9073-4784-9141-bd8e4f54809e",
   "metadata": {},
   "outputs": [
    {
     "data": {
      "text/html": [
       "<div>\n",
       "<style scoped>\n",
       "    .dataframe tbody tr th:only-of-type {\n",
       "        vertical-align: middle;\n",
       "    }\n",
       "\n",
       "    .dataframe tbody tr th {\n",
       "        vertical-align: top;\n",
       "    }\n",
       "\n",
       "    .dataframe thead th {\n",
       "        text-align: right;\n",
       "    }\n",
       "</style>\n",
       "<table border=\"1\" class=\"dataframe\">\n",
       "  <thead>\n",
       "    <tr style=\"text-align: right;\">\n",
       "      <th></th>\n",
       "      <th>objID</th>\n",
       "      <th>u</th>\n",
       "      <th>g</th>\n",
       "      <th>r</th>\n",
       "      <th>i</th>\n",
       "      <th>z</th>\n",
       "      <th>redshift</th>\n",
       "    </tr>\n",
       "  </thead>\n",
       "  <tbody>\n",
       "    <tr>\n",
       "      <th>0</th>\n",
       "      <td>1237661464385356095</td>\n",
       "      <td>19.78247</td>\n",
       "      <td>18.51326</td>\n",
       "      <td>17.70357</td>\n",
       "      <td>17.26893</td>\n",
       "      <td>16.97296</td>\n",
       "      <td>0.153270</td>\n",
       "    </tr>\n",
       "    <tr>\n",
       "      <th>1</th>\n",
       "      <td>1237661463848550513</td>\n",
       "      <td>20.85782</td>\n",
       "      <td>18.60410</td>\n",
       "      <td>17.62333</td>\n",
       "      <td>17.17327</td>\n",
       "      <td>16.83212</td>\n",
       "      <td>0.079166</td>\n",
       "    </tr>\n",
       "    <tr>\n",
       "      <th>2</th>\n",
       "      <td>1237662336799408157</td>\n",
       "      <td>18.25609</td>\n",
       "      <td>17.21735</td>\n",
       "      <td>16.89063</td>\n",
       "      <td>16.75081</td>\n",
       "      <td>16.66703</td>\n",
       "      <td>0.000075</td>\n",
       "    </tr>\n",
       "    <tr>\n",
       "      <th>3</th>\n",
       "      <td>1237661464921964802</td>\n",
       "      <td>21.81640</td>\n",
       "      <td>19.32997</td>\n",
       "      <td>17.96913</td>\n",
       "      <td>17.32537</td>\n",
       "      <td>17.02673</td>\n",
       "      <td>0.223294</td>\n",
       "    </tr>\n",
       "    <tr>\n",
       "      <th>4</th>\n",
       "      <td>1237661465458835623</td>\n",
       "      <td>18.13901</td>\n",
       "      <td>17.30386</td>\n",
       "      <td>17.09862</td>\n",
       "      <td>16.98777</td>\n",
       "      <td>16.85346</td>\n",
       "      <td>0.022392</td>\n",
       "    </tr>\n",
       "  </tbody>\n",
       "</table>\n",
       "</div>"
      ],
      "text/plain": [
       "                 objID         u         g         r         i         z  \\\n",
       "0  1237661464385356095  19.78247  18.51326  17.70357  17.26893  16.97296   \n",
       "1  1237661463848550513  20.85782  18.60410  17.62333  17.17327  16.83212   \n",
       "2  1237662336799408157  18.25609  17.21735  16.89063  16.75081  16.66703   \n",
       "3  1237661464921964802  21.81640  19.32997  17.96913  17.32537  17.02673   \n",
       "4  1237661465458835623  18.13901  17.30386  17.09862  16.98777  16.85346   \n",
       "\n",
       "   redshift  \n",
       "0  0.153270  \n",
       "1  0.079166  \n",
       "2  0.000075  \n",
       "3  0.223294  \n",
       "4  0.022392  "
      ]
     },
     "execution_count": 3,
     "metadata": {},
     "output_type": "execute_result"
    }
   ],
   "source": [
    "# load csv to dataframe and remove columns\n",
    "df = pd.read_csv(filename)\n",
    "df = df.drop(['ra', 'dec', 'class'], axis=1)\n",
    "\n",
    "df.head()"
   ]
  },
  {
   "cell_type": "code",
   "execution_count": 4,
   "id": "82b4feb8-e200-499a-826d-71dab07aa515",
   "metadata": {},
   "outputs": [
    {
     "data": {
      "text/plain": [
       "((4613773,), (4613773, 5), (5,), (4613773,), (1,))"
      ]
     },
     "execution_count": 4,
     "metadata": {},
     "output_type": "execute_result"
    }
   ],
   "source": [
    "# build set of np arrays\n",
    "ids = df[df.columns[0]].to_numpy()\n",
    "X = df[df.columns[1:-1]].to_numpy()\n",
    "X_cols = df.columns[1:-1].to_numpy()\n",
    "y = df[df.columns[-1]].to_numpy()\n",
    "y_cols = np.array([df.columns[-1]])\n",
    "\n",
    "ids.shape, X.shape, X_cols.shape, y.shape, y_cols.shape"
   ]
  },
  {
   "cell_type": "code",
   "execution_count": 5,
   "id": "e7c50331-a0a5-42a1-99bd-2ff0bacaadbf",
   "metadata": {},
   "outputs": [],
   "source": [
    "np.savez('sdss_specphoto_ugriz_redshift.npz', ids=ids, X=X, y=y, X_cols=X_cols, y_cols=y_cols)"
   ]
  },
  {
   "cell_type": "markdown",
   "id": "85d2b07c-d49e-4874-8ecd-460cfe918a58",
   "metadata": {},
   "source": [
    "### `sdss_specphoto_ugriz_class`"
   ]
  },
  {
   "cell_type": "code",
   "execution_count": 6,
   "id": "13ed4724-1ef0-418b-8f29-d2bc4c271370",
   "metadata": {},
   "outputs": [
    {
     "data": {
      "text/html": [
       "<div>\n",
       "<style scoped>\n",
       "    .dataframe tbody tr th:only-of-type {\n",
       "        vertical-align: middle;\n",
       "    }\n",
       "\n",
       "    .dataframe tbody tr th {\n",
       "        vertical-align: top;\n",
       "    }\n",
       "\n",
       "    .dataframe thead th {\n",
       "        text-align: right;\n",
       "    }\n",
       "</style>\n",
       "<table border=\"1\" class=\"dataframe\">\n",
       "  <thead>\n",
       "    <tr style=\"text-align: right;\">\n",
       "      <th></th>\n",
       "      <th>objID</th>\n",
       "      <th>u</th>\n",
       "      <th>g</th>\n",
       "      <th>r</th>\n",
       "      <th>i</th>\n",
       "      <th>z</th>\n",
       "      <th>class</th>\n",
       "    </tr>\n",
       "  </thead>\n",
       "  <tbody>\n",
       "    <tr>\n",
       "      <th>0</th>\n",
       "      <td>1237661464385356095</td>\n",
       "      <td>19.78247</td>\n",
       "      <td>18.51326</td>\n",
       "      <td>17.70357</td>\n",
       "      <td>17.26893</td>\n",
       "      <td>16.97296</td>\n",
       "      <td>GALAXY</td>\n",
       "    </tr>\n",
       "    <tr>\n",
       "      <th>1</th>\n",
       "      <td>1237661463848550513</td>\n",
       "      <td>20.85782</td>\n",
       "      <td>18.60410</td>\n",
       "      <td>17.62333</td>\n",
       "      <td>17.17327</td>\n",
       "      <td>16.83212</td>\n",
       "      <td>GALAXY</td>\n",
       "    </tr>\n",
       "    <tr>\n",
       "      <th>2</th>\n",
       "      <td>1237662336799408157</td>\n",
       "      <td>18.25609</td>\n",
       "      <td>17.21735</td>\n",
       "      <td>16.89063</td>\n",
       "      <td>16.75081</td>\n",
       "      <td>16.66703</td>\n",
       "      <td>STAR</td>\n",
       "    </tr>\n",
       "    <tr>\n",
       "      <th>3</th>\n",
       "      <td>1237661464921964802</td>\n",
       "      <td>21.81640</td>\n",
       "      <td>19.32997</td>\n",
       "      <td>17.96913</td>\n",
       "      <td>17.32537</td>\n",
       "      <td>17.02673</td>\n",
       "      <td>GALAXY</td>\n",
       "    </tr>\n",
       "    <tr>\n",
       "      <th>4</th>\n",
       "      <td>1237661465458835623</td>\n",
       "      <td>18.13901</td>\n",
       "      <td>17.30386</td>\n",
       "      <td>17.09862</td>\n",
       "      <td>16.98777</td>\n",
       "      <td>16.85346</td>\n",
       "      <td>GALAXY</td>\n",
       "    </tr>\n",
       "  </tbody>\n",
       "</table>\n",
       "</div>"
      ],
      "text/plain": [
       "                 objID         u         g         r         i         z  \\\n",
       "0  1237661464385356095  19.78247  18.51326  17.70357  17.26893  16.97296   \n",
       "1  1237661463848550513  20.85782  18.60410  17.62333  17.17327  16.83212   \n",
       "2  1237662336799408157  18.25609  17.21735  16.89063  16.75081  16.66703   \n",
       "3  1237661464921964802  21.81640  19.32997  17.96913  17.32537  17.02673   \n",
       "4  1237661465458835623  18.13901  17.30386  17.09862  16.98777  16.85346   \n",
       "\n",
       "    class  \n",
       "0  GALAXY  \n",
       "1  GALAXY  \n",
       "2    STAR  \n",
       "3  GALAXY  \n",
       "4  GALAXY  "
      ]
     },
     "execution_count": 6,
     "metadata": {},
     "output_type": "execute_result"
    }
   ],
   "source": [
    "# load csv to dataframe and remove columns\n",
    "df = pd.read_csv(filename)\n",
    "df = df.drop(['ra', 'dec', 'redshift'], axis=1)\n",
    "df = df[['objID', 'u', 'g', 'r', 'i', 'z', 'class']]\n",
    "\n",
    "df.head()"
   ]
  },
  {
   "cell_type": "code",
   "execution_count": 7,
   "id": "7b1c6393-40ba-4e93-8f29-46e42bb7343c",
   "metadata": {},
   "outputs": [],
   "source": [
    "# build set of np arrays\n",
    "ids = df[df.columns[0]].to_numpy()\n",
    "X = df[df.columns[1:-1]].to_numpy()\n",
    "X_cols = df.columns[1:-1].to_numpy()\n",
    "y_cols = np.array([df.columns[-1]])"
   ]
  },
  {
   "cell_type": "code",
   "execution_count": 8,
   "id": "5dc8e225-8995-46c0-9885-17c7ba45817e",
   "metadata": {},
   "outputs": [
    {
     "data": {
      "text/plain": [
       "(4613773, 3)"
      ]
     },
     "execution_count": 8,
     "metadata": {},
     "output_type": "execute_result"
    }
   ],
   "source": [
    "# one hot encode classes\n",
    "classes = ['GALAXY', 'STAR', 'QSO']\n",
    "l = []\n",
    "for c in df[df.columns[-1]]:\n",
    "    curr = np.zeros(3)\n",
    "    curr[classes.index(c)] = 1\n",
    "    l.append(curr)\n",
    "y = np.array(l)\n",
    "\n",
    "y.shape"
   ]
  },
  {
   "cell_type": "code",
   "execution_count": 9,
   "id": "47c87e48-702b-43c2-a41a-f76b28886c02",
   "metadata": {},
   "outputs": [],
   "source": [
    "np.savez('sdss_specphoto_ugriz_class.npz', X=X, X_cols=X_cols, y=y, y_cols=y_cols, classes=np.array(classes))"
   ]
  },
  {
   "cell_type": "code",
   "execution_count": null,
   "id": "b0f2658c-c124-4eb5-86de-6430abea4000",
   "metadata": {},
   "outputs": [],
   "source": []
  }
 ],
 "metadata": {
  "kernelspec": {
   "display_name": "Python 3 (ipykernel)",
   "language": "python",
   "name": "python3"
  },
  "language_info": {
   "codemirror_mode": {
    "name": "ipython",
    "version": 3
   },
   "file_extension": ".py",
   "mimetype": "text/x-python",
   "name": "python",
   "nbconvert_exporter": "python",
   "pygments_lexer": "ipython3",
   "version": "3.9.7"
  }
 },
 "nbformat": 4,
 "nbformat_minor": 5
}
